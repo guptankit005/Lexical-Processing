{
  "nbformat": 4,
  "nbformat_minor": 0,
  "metadata": {
    "colab": {
      "provenance": [],
      "authorship_tag": "ABX9TyPzDbCm8EswgG4N8lP8XGAm",
      "include_colab_link": true
    },
    "kernelspec": {
      "name": "python3",
      "display_name": "Python 3"
    },
    "language_info": {
      "name": "python"
    }
  },
  "cells": [
    {
      "cell_type": "markdown",
      "metadata": {
        "id": "view-in-github",
        "colab_type": "text"
      },
      "source": [
        "<a href=\"https://colab.research.google.com/github/guptankit005/Lexical-Processing/blob/main/Lexical_Processing%C2%A0_Preprocessing_Textual_Data_%C2%A0I.ipynb\" target=\"_parent\"><img src=\"https://colab.research.google.com/assets/colab-badge.svg\" alt=\"Open In Colab\"/></a>"
      ]
    },
    {
      "cell_type": "code",
      "source": [
        "#importing regex library\n",
        "import re\n",
        "\n",
        "#text data example\n",
        "data = 'It is very bright and sunny today.'\n",
        "\n",
        "#pattern that we want to search\n",
        "pat = 'nn*' \n",
        "#regex will look for a pattern where there is 'n' followed by 'n' zero or more time.\n",
        "#So it'll give the string location for 'n' in 'and'.\n",
        "\n",
        "print(re.search(pat, data))\n"
      ],
      "metadata": {
        "colab": {
          "base_uri": "https://localhost:8080/"
        },
        "id": "wrGhZpkpWgpb",
        "outputId": "761e072a-6f74-4918-9ddd-d19bde2bbb32"
      },
      "execution_count": null,
      "outputs": [
        {
          "output_type": "stream",
          "name": "stdout",
          "text": [
            "<re.Match object; span=(19, 20), match='n'>\n"
          ]
        }
      ]
    },
    {
      "cell_type": "code",
      "execution_count": null,
      "metadata": {
        "colab": {
          "base_uri": "https://localhost:8080/"
        },
        "id": "ndSQX3WOPLtJ",
        "outputId": "f20711b2-88c0-4089-d502-e13c3afec9b9"
      },
      "outputs": [
        {
          "output_type": "stream",
          "name": "stdout",
          "text": [
            "<re.Match object; span=(24, 26), match='nn'>\n"
          ]
        }
      ],
      "source": [
        "#importing regex library\n",
        "import re\n",
        "\n",
        "#text data example\n",
        "data = 'It is very bright and sunny today.'\n",
        "\n",
        "#pattern that we want to search\n",
        "pat = 'nn+' #regex will look for a pattern where there is 'n' followed by 'n' one or more time.\n",
        "#So it'll give the string location for 'n' in 'sunny'.\n",
        "\n",
        "print(re.search(pat, data))\n"
      ]
    },
    {
      "cell_type": "code",
      "source": [
        "#importing regex library\n",
        "import re\n",
        "\n",
        "#text data example\n",
        "data = 'It is very bright and sunny today.'\n",
        "\n",
        "#pattern that we want to search\n",
        "pat = 'nn?' #regex will look for a pattern where there is 'n' followed by 'n' zero or one time.\n",
        "#So it'll give the string location for 'n' in 'and'.\n",
        "\n",
        "print(re.search(pat, data))\n"
      ],
      "metadata": {
        "colab": {
          "base_uri": "https://localhost:8080/"
        },
        "id": "0VrlyKUiRLTz",
        "outputId": "1f6a1783-4cda-4706-eec7-7dad425dbd31"
      },
      "execution_count": null,
      "outputs": [
        {
          "output_type": "stream",
          "name": "stdout",
          "text": [
            "<re.Match object; span=(19, 20), match='n'>\n"
          ]
        }
      ]
    },
    {
      "cell_type": "code",
      "source": [
        "#importing regex library\n",
        "import re\n",
        "\n",
        "#text data example\n",
        "data = 'It is very bright and sunny today.'\n",
        "\n",
        "#pattern that we want to search\n",
        "pat = 'n{2}' #regex will look for a pattern where there is 'n' exactly two times.\n",
        "#So it'll give the string location for 'n' in 'sunny'.\n",
        "\n",
        "print(re.search(pat, data))"
      ],
      "metadata": {
        "colab": {
          "base_uri": "https://localhost:8080/"
        },
        "id": "_kR4zqS4Ugcv",
        "outputId": "be18fe08-6b38-4c2d-9070-0a3f19addd00"
      },
      "execution_count": null,
      "outputs": [
        {
          "output_type": "stream",
          "name": "stdout",
          "text": [
            "<re.Match object; span=(24, 26), match='nn'>\n"
          ]
        }
      ]
    },
    {
      "cell_type": "code",
      "source": [
        "#importing regex library\n",
        "import re\n",
        "\n",
        "#text data example\n",
        "data = 'It is very bright and sunny today.'\n",
        "\n",
        "#pattern that we want to search\n",
        "pat = 'n{1,}' #regex will look for a pattern where there is 'n' atleast one time.\n",
        "#So it'll give the string location for 'n' in 'and'.\n",
        "\n",
        "print(re.search(pat, data))"
      ],
      "metadata": {
        "colab": {
          "base_uri": "https://localhost:8080/"
        },
        "id": "FHs7JSZEWBIA",
        "outputId": "d5459eb3-a9cd-4b4c-8bc9-170635a67707"
      },
      "execution_count": null,
      "outputs": [
        {
          "output_type": "stream",
          "name": "stdout",
          "text": [
            "<re.Match object; span=(19, 20), match='n'>\n"
          ]
        }
      ]
    },
    {
      "cell_type": "code",
      "source": [
        "#importing regex library\n",
        "import re\n",
        "\n",
        "#text data example\n",
        "data = 'It is very bright and sunny today.'\n",
        "\n",
        "#pattern that we want to search\n",
        "pat = 'n{1,2}' #regex will look for a pattern where there is 'n' atleast one time or maximum two times .\n",
        "#So it'll give the string location for 'n' in 'and'.\n",
        "\n",
        "print(re.search(pat, data))"
      ],
      "metadata": {
        "colab": {
          "base_uri": "https://localhost:8080/"
        },
        "id": "KpaF_Z3aXEqW",
        "outputId": "2de62611-7802-42b5-e1fb-b8a961c0f908"
      },
      "execution_count": null,
      "outputs": [
        {
          "output_type": "stream",
          "name": "stdout",
          "text": [
            "<re.Match object; span=(19, 20), match='n'>\n"
          ]
        }
      ]
    },
    {
      "cell_type": "code",
      "source": [
        "#importing regex library\n",
        "import re\n",
        "\n",
        "#text data example\n",
        "data = 'It is very bright and sunny today. The temperature outside is 38 C.'\n",
        "\n",
        "#pattern that we want to search\n",
        "pat = '\\d{2}' #regex will look for a pattern where there is a two digit number.\n",
        "#So it'll give the temperature value as output'.\n",
        "\n",
        "print(re.search(pat, data))\n"
      ],
      "metadata": {
        "id": "4oIG_pjpX2br",
        "colab": {
          "base_uri": "https://localhost:8080/"
        },
        "outputId": "d51813a4-0750-40e2-c186-6d5c10d99c1a"
      },
      "execution_count": null,
      "outputs": [
        {
          "output_type": "stream",
          "name": "stdout",
          "text": [
            "<re.Match object; span=(62, 64), match='38'>\n"
          ]
        }
      ]
    },
    {
      "cell_type": "code",
      "source": [
        "#importing regex library\n",
        "import re\n",
        "\n",
        "#text data example\n",
        "data = 'Please feel fre to reach me out at 200-1212-5579'\n",
        "\n",
        "#pattern that we want to search\n",
        "pat = '\\d{3}-\\d{4}-\\d{4}' \n",
        "#So it'll give the string location for given phone number.\n",
        "\n",
        "print(re.search(pat, data))\n"
      ],
      "metadata": {
        "colab": {
          "base_uri": "https://localhost:8080/"
        },
        "id": "sN97N0a-5sVb",
        "outputId": "312b020d-8ef6-41fc-8283-72eddc3fcc25"
      },
      "execution_count": null,
      "outputs": [
        {
          "output_type": "stream",
          "name": "stdout",
          "text": [
            "<re.Match object; span=(35, 48), match='200-1212-5579'>\n"
          ]
        }
      ]
    },
    {
      "cell_type": "code",
      "source": [
        "#importing regex library\n",
        "import re\n",
        "\n",
        "#text data example\n",
        "data = 'It is very bright and sunny today. The temperature outside is 38 C.'\n",
        "\n",
        "#pattern that we want to search\n",
        "pat = '[^A-Za-z\\s | ^\\.]{2}' #regex will look for a pattern where there is a two digit number.\n",
        "#So it'll give the temperature value as output'.\n",
        "\n",
        "print(re.search(pat, data))\n"
      ],
      "metadata": {
        "colab": {
          "base_uri": "https://localhost:8080/"
        },
        "id": "Oveo4XnC6gZ8",
        "outputId": "517cad59-3a38-4de6-8783-d6aceb1a03c4"
      },
      "execution_count": null,
      "outputs": [
        {
          "output_type": "stream",
          "name": "stdout",
          "text": [
            "<re.Match object; span=(62, 64), match='38'>\n"
          ]
        }
      ]
    },
    {
      "cell_type": "code",
      "source": [
        "#importing regex library\n",
        "import re\n",
        "\n",
        "#text data example\n",
        "data = 'It is very bright and sunny today.'\n",
        "\n",
        "#pattern that we want to search\n",
        "pat = 'n{1,2}' #regex will look for a pattern where there is 'n' atleast one time or maximum two times .\n",
        "#So it'll give the string location for 'n' in 'and'.\n",
        "\n",
        "print(re.search(pat, data))"
      ],
      "metadata": {
        "colab": {
          "base_uri": "https://localhost:8080/"
        },
        "id": "Vp-pDP-v81Zq",
        "outputId": "43567c4e-915d-4f7f-fb1a-465ba506fa72"
      },
      "execution_count": null,
      "outputs": [
        {
          "output_type": "stream",
          "name": "stdout",
          "text": [
            "<re.Match object; span=(19, 20), match='n'>\n"
          ]
        }
      ]
    },
    {
      "cell_type": "code",
      "source": [
        "#importing regex library\n",
        "import re\n",
        "\n",
        "#text data example\n",
        "data = 'It is very bright and sunny today.'\n",
        "\n",
        "#pattern that we want to search\n",
        "pat = 'n{1,2}' #regex will look for a pattern at the beginning of the string .\n",
        "#So it'll give None since no string starts with given pattern..\n",
        "\n",
        "print(re.match(pat, data))"
      ],
      "metadata": {
        "colab": {
          "base_uri": "https://localhost:8080/"
        },
        "id": "w-WtnXBHBrGj",
        "outputId": "64ea5a81-78a7-488c-9e96-f8164d3f4295"
      },
      "execution_count": null,
      "outputs": [
        {
          "output_type": "stream",
          "name": "stdout",
          "text": [
            "None\n"
          ]
        }
      ]
    },
    {
      "cell_type": "code",
      "source": [
        "#importing regex library\n",
        "import re\n",
        "\n",
        "#text data example\n",
        "data = 'It is very bright and sunny today.'\n",
        "\n",
        "#pattern that we want to search\n",
        "pat = 'n{1,}' #regex will look for a pattern where there is 'n' atleast one time or maximum two times .\n",
        "#So it'll find all the matches.\n",
        "\n",
        "print(re.findall(pat, data))"
      ],
      "metadata": {
        "colab": {
          "base_uri": "https://localhost:8080/"
        },
        "id": "PvFB4--1BsY5",
        "outputId": "144aef29-4007-476b-f6ca-f33bda3fd147"
      },
      "execution_count": null,
      "outputs": [
        {
          "output_type": "stream",
          "name": "stdout",
          "text": [
            "['n', 'nn']\n"
          ]
        }
      ]
    },
    {
      "cell_type": "code",
      "source": [
        "#importing regex library\n",
        "import re\n",
        "\n",
        "#text data example\n",
        "data = 'It is very bright and sunny today.'\n",
        "\n",
        "replacement = 'hot'\n",
        "\n",
        "#pattern that we want to search\n",
        "pat = 'sunny' #regex will look for a pattern and perform the replacement.\n",
        "\n",
        "print(re.sub(pat,replacement,data))"
      ],
      "metadata": {
        "colab": {
          "base_uri": "https://localhost:8080/"
        },
        "id": "wC4irgXOCasS",
        "outputId": "3fcf5595-a986-4a33-d0cb-85135eb6ade1"
      },
      "execution_count": null,
      "outputs": [
        {
          "output_type": "stream",
          "name": "stdout",
          "text": [
            "It is very bright and hot today.\n"
          ]
        }
      ]
    },
    {
      "cell_type": "code",
      "source": [
        "#importing nltk\n",
        "import nltk\n",
        "nltk.download('stopwords')\n",
        "nltk.download('punkt')\n",
        "nltk.download('wordnet')\n",
        "nltk.download('omw-1.4')"
      ],
      "metadata": {
        "colab": {
          "base_uri": "https://localhost:8080/"
        },
        "id": "EXisoff-Iz87",
        "outputId": "4bf86347-e39d-469a-fcdc-baa0fe42fd8d"
      },
      "execution_count": null,
      "outputs": [
        {
          "output_type": "stream",
          "name": "stderr",
          "text": [
            "[nltk_data] Downloading package stopwords to /root/nltk_data...\n",
            "[nltk_data]   Package stopwords is already up-to-date!\n",
            "[nltk_data] Downloading package punkt to /root/nltk_data...\n",
            "[nltk_data]   Package punkt is already up-to-date!\n",
            "[nltk_data] Downloading package wordnet to /root/nltk_data...\n",
            "[nltk_data]   Package wordnet is already up-to-date!\n",
            "[nltk_data] Downloading package omw-1.4 to /root/nltk_data...\n"
          ]
        },
        {
          "output_type": "execute_result",
          "data": {
            "text/plain": [
              "True"
            ]
          },
          "metadata": {},
          "execution_count": 12
        }
      ]
    },
    {
      "cell_type": "code",
      "source": [
        "from nltk.corpus import stopwords\n",
        "stop_words = stopwords.words('english')\n",
        "\n",
        "#importing word tokenizer\n",
        "from nltk.tokenize import word_tokenize\n",
        "\n",
        "#text data example\n",
        "data = 'It is very bright and sunny today.'\n",
        "text_tokens = word_tokenize(data)\n",
        "\n",
        "#stop words removal\n",
        "words = [word for word in text_tokens if word not in stop_words]\n",
        "words"
      ],
      "metadata": {
        "colab": {
          "base_uri": "https://localhost:8080/"
        },
        "id": "iyOZFNdaChO-",
        "outputId": "50a06ba7-29a3-4b70-9b2f-aadf6405fa1f"
      },
      "execution_count": null,
      "outputs": [
        {
          "output_type": "execute_result",
          "data": {
            "text/plain": [
              "['It', 'bright', 'sunny', 'today', '.']"
            ]
          },
          "metadata": {},
          "execution_count": 30
        }
      ]
    },
    {
      "cell_type": "code",
      "source": [
        "#text data example\n",
        "data = 'It is very bright and sunny today. The temperature outside is 38 C.'\n",
        "\n",
        "#word tokenization\n",
        "from nltk.tokenize import word_tokenize\n",
        "words = word_tokenize(data)\n",
        "print(words)"
      ],
      "metadata": {
        "colab": {
          "base_uri": "https://localhost:8080/"
        },
        "id": "avOYR8a4Iu1u",
        "outputId": "ef94b7c5-f2f2-450e-c0e8-7916795dc00c"
      },
      "execution_count": null,
      "outputs": [
        {
          "output_type": "stream",
          "name": "stdout",
          "text": [
            "['It', 'is', 'very', 'bright', 'and', 'sunny', 'today', '.', 'The', 'temperature', 'outside', 'is', '38', 'C', '.']\n"
          ]
        }
      ]
    },
    {
      "cell_type": "code",
      "source": [
        "#text data example\n",
        "data = 'It is very bright and sunny today. The temperature outside is 38 C.'\n",
        "\n",
        "#word tokenization\n",
        "from nltk.tokenize import sent_tokenize\n",
        "sentence = sent_tokenize(data)\n",
        "print(sentence)"
      ],
      "metadata": {
        "colab": {
          "base_uri": "https://localhost:8080/"
        },
        "id": "DfW899B3O10R",
        "outputId": "6c5025c0-6f20-4d36-b22f-29ed07fd08b3"
      },
      "execution_count": null,
      "outputs": [
        {
          "output_type": "stream",
          "name": "stdout",
          "text": [
            "['It is very bright and sunny today.', 'The temperature outside is 38 C.']\n"
          ]
        }
      ]
    },
    {
      "cell_type": "code",
      "source": [
        "#text data example\n",
        "data = 'It is very bright and sunny today. The temperature outside is 38 C.#bingewatching #chillinside <3 😎'\n",
        "\n",
        "#word tokenization\n",
        "from nltk.tokenize import TweetTokenizer\n",
        "tweet_tokenizer = TweetTokenizer()\n",
        "tweet = tweet_tokenizer.tokenize(data)\n",
        "tweet"
      ],
      "metadata": {
        "colab": {
          "base_uri": "https://localhost:8080/"
        },
        "id": "Wj0m1VwyPUcc",
        "outputId": "8c1f5c65-10af-4286-e739-04e48dec86e2"
      },
      "execution_count": null,
      "outputs": [
        {
          "output_type": "execute_result",
          "data": {
            "text/plain": [
              "['It',\n",
              " 'is',\n",
              " 'very',\n",
              " 'bright',\n",
              " 'and',\n",
              " 'sunny',\n",
              " 'today',\n",
              " '.',\n",
              " 'The',\n",
              " 'temperature',\n",
              " 'outside',\n",
              " 'is',\n",
              " '38',\n",
              " 'C',\n",
              " '.',\n",
              " '#bingewatching',\n",
              " '#chillinside',\n",
              " '<3',\n",
              " '😎']"
            ]
          },
          "metadata": {},
          "execution_count": 42
        }
      ]
    },
    {
      "cell_type": "code",
      "source": [
        "#text data example\n",
        "data = 'It is very bright and sunny today. The temperature outside is 38 C.#bingewatching #chillinside <3 😎'\n",
        "\n",
        "#pattern\n",
        "pattern  = '#[\\w]+'\n",
        "#word tokenization\n",
        "from nltk.tokenize import regexp_tokenize\n",
        "regex_token = regexp_tokenize(data,pattern)\n",
        "print(regex_token)"
      ],
      "metadata": {
        "colab": {
          "base_uri": "https://localhost:8080/"
        },
        "id": "9JbOTzAwP1Hj",
        "outputId": "526d3370-870b-4ed3-cfd4-b6f122af9036"
      },
      "execution_count": null,
      "outputs": [
        {
          "output_type": "stream",
          "name": "stdout",
          "text": [
            "['#bingewatching', '#chillinside']\n"
          ]
        }
      ]
    },
    {
      "cell_type": "code",
      "source": [
        "# import libraries\n",
        "import pandas as pd\n",
        "from nltk.tokenize import word_tokenize\n",
        "from nltk.stem.porter import PorterStemmer\n",
        "\n",
        "#text data example\n",
        "data = 'I dropped my phone. The glass was cracked. The screen still worked. I was relieved.'\n",
        "\n",
        "tokens = word_tokenize(data.lower())\n",
        "print(tokens)\n",
        "\n",
        "stemmer = PorterStemmer()\n",
        "porter_stemmed = [stemmer.stem(token) for token in tokens]\n",
        "print(porter_stemmed)"
      ],
      "metadata": {
        "id": "2TEPg11mRBNi",
        "colab": {
          "base_uri": "https://localhost:8080/"
        },
        "outputId": "bfdb0db7-d152-44e7-aba2-6bfe64e8f22d"
      },
      "execution_count": null,
      "outputs": [
        {
          "output_type": "stream",
          "name": "stdout",
          "text": [
            "['i', 'dropped', 'my', 'phone', '.', 'the', 'glass', 'was', 'cracked', '.', 'the', 'screen', 'still', 'worked', '.', 'i', 'was', 'relieved', '.']\n",
            "['i', 'drop', 'my', 'phone', '.', 'the', 'glass', 'wa', 'crack', '.', 'the', 'screen', 'still', 'work', '.', 'i', 'wa', 'reliev', '.']\n"
          ]
        }
      ]
    },
    {
      "cell_type": "code",
      "source": [
        "### import necessary libraries\n",
        "from nltk.tokenize import word_tokenize\n",
        "from nltk.stem import WordNetLemmatizer\n",
        "\n",
        "#text data example\n",
        "data = 'I dropped my phone. The glass was cracked. The screen still worked. I was relieved.'\n",
        "\n",
        "tokens = word_tokenize(data.lower())\n",
        "print(tokens)\n",
        "\n",
        "wordnet_lemmatizer = WordNetLemmatizer()\n",
        "lemmatized = [wordnet_lemmatizer.lemmatize(token, 'v') for token in tokens]\n",
        "print(lemmatized)"
      ],
      "metadata": {
        "colab": {
          "base_uri": "https://localhost:8080/"
        },
        "id": "utm5PUrcFadm",
        "outputId": "9b7ed93d-1bcf-4a05-bf24-c76a23574254"
      },
      "execution_count": null,
      "outputs": [
        {
          "output_type": "stream",
          "name": "stdout",
          "text": [
            "['i', 'dropped', 'my', 'phone', '.', 'the', 'glass', 'was', 'cracked', '.', 'the', 'screen', 'still', 'worked', '.', 'i', 'was', 'relieved', '.']\n",
            "['i', 'drop', 'my', 'phone', '.', 'the', 'glass', 'be', 'crack', '.', 'the', 'screen', 'still', 'work', '.', 'i', 'be', 'relieve', '.']\n"
          ]
        }
      ]
    },
    {
      "cell_type": "code",
      "source": [
        "from nltk.stem import WordNetLemmatizer\n",
        "wnl = WordNetLemmatizer()\n",
        "print(wnl.lemmatize('studies'))"
      ],
      "metadata": {
        "colab": {
          "base_uri": "https://localhost:8080/"
        },
        "id": "v5YRMESiJIK2",
        "outputId": "6bc9fd98-c716-4a65-c5eb-3e698e9cb939"
      },
      "execution_count": null,
      "outputs": [
        {
          "output_type": "stream",
          "name": "stdout",
          "text": [
            "study\n"
          ]
        }
      ]
    },
    {
      "cell_type": "code",
      "source": [
        "#soundex\n",
        "def get_soundex(token):\n",
        "    \"\"\"Get the soundex code for the string\"\"\"\n",
        "    token = token.upper()\n",
        "\n",
        "    soundex = \"\"\n",
        "    \n",
        "    # first letter of input is always the first letter of soundex\n",
        "    soundex += token[0]\n",
        "    \n",
        "    # create a dictionary which maps letters to respective soundex codes. Vowels and 'H', 'W' and 'Y' will be represented by '.'\n",
        "    dictionary = {\"BFPV\": \"1\", \"CGJKQSXZ\":\"2\", \"DT\":\"3\", \"L\":\"4\", \"MN\":\"5\", \"R\":\"6\", \"AEIOUHWY\":\".\"}\n",
        "    \n",
        "    for char in token[1:]:\n",
        "        for key in dictionary.keys():\n",
        "            if char in key:\n",
        "                code = dictionary[key] \n",
        "                if code != '.': \n",
        "                    if code != soundex[-1]: \n",
        "                        soundex += code \n",
        "                    \n",
        "    \n",
        "    # trim or pad to make soundex a 4-character code\n",
        "    soundex = soundex[:4].ljust(4, \"0\")\n",
        "        \n",
        "    return soundex"
      ],
      "metadata": {
        "id": "hdsm22N2JI3W"
      },
      "execution_count": 1,
      "outputs": []
    },
    {
      "cell_type": "code",
      "source": [
        "print(get_soundex(\"DELHI\"))"
      ],
      "metadata": {
        "colab": {
          "base_uri": "https://localhost:8080/"
        },
        "id": "UiEUAOjpTYCn",
        "outputId": "cac3714b-5b0c-40ef-a723-5d5c575538af"
      },
      "execution_count": 2,
      "outputs": [
        {
          "output_type": "stream",
          "name": "stdout",
          "text": [
            "D400\n"
          ]
        }
      ]
    },
    {
      "cell_type": "code",
      "source": [],
      "metadata": {
        "id": "jW_XIrKMTbhp"
      },
      "execution_count": null,
      "outputs": []
    }
  ]
}